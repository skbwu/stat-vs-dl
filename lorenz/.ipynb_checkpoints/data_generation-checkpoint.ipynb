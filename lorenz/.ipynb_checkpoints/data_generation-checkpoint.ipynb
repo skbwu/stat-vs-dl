{
 "cells": [
  {
   "cell_type": "code",
   "execution_count": 2,
   "id": "dea6bfd2",
   "metadata": {},
   "outputs": [],
   "source": [
    "import numpy as np\n",
    "import pandas as pd\n",
    "import matplotlib.pyplot as plt\n",
    "from IPython.display import clear_output\n",
    "from scipy.integrate import solve_ivp\n",
    "from tqdm.notebook import tqdm"
   ]
  },
  {
   "cell_type": "markdown",
   "id": "ecf5e40f",
   "metadata": {},
   "source": [
    "# Lorenz Model"
   ]
  },
  {
   "cell_type": "code",
   "execution_count": 3,
   "id": "9de8613c",
   "metadata": {},
   "outputs": [
    {
     "data": {
      "application/vnd.jupyter.widget-view+json": {
       "model_id": "05f0424c560446a18dae2957e4e4b634",
       "version_major": 2,
       "version_minor": 0
      },
      "text/plain": [
       "  0%|          | 0/80 [00:00<?, ?it/s]"
      ]
     },
     "metadata": {},
     "output_type": "display_data"
    }
   ],
   "source": [
    "'''\n",
    "Showcase Samples:\n",
    "1. Chaotic (Butterfly): (X_0, Y_0, Z_0) = (5, 5, 5) + (beta, rho, sigma) = (8/3, 28.0, 10.0).\n",
    "2. Stable (Transient Chaos): (X_0, Y_0, Z_0) = (5, 5, 5) + (beta, rho, sigma) = (8/3, 6.0, 10.0).\n",
    "'''\n",
    "# generate separate datasets for each possible combination, using very high precision\n",
    "for seed in tqdm(range(0, 100)):\n",
    "    for alpha in [0.0005, 0.05]:\n",
    "        \n",
    "        # two possible combinations of params (i.e., two testbed regimes)\n",
    "        for params in [((8/3, 28.0, 10.0), np.array([5.0, 5.0, 5.0])), \n",
    "                       ((8/3, 23.0, 10.0), np.array([5.0, 5.0, 5.0]))]:\n",
    "            \n",
    "             # set a seed for reproducibility\n",
    "            np.random.seed(seed)\n",
    "\n",
    "            # what are our parameters?\n",
    "            (beta, rho, sigma), y_init = params\n",
    "\n",
    "            # encode ODEs for solve_ivp data-generation processes\n",
    "            def lorenz(t, y):\n",
    "\n",
    "                # unpack y\n",
    "                X, Y, Z = tuple(y)\n",
    "\n",
    "                # dXdt = sigma * (Y-X); dYdt = x(rho - z) - y; dZdt = xy - beta*z\n",
    "                dXdt = sigma * (Y-X)\n",
    "                dYdt = (X * (rho - Z)) - Y\n",
    "                dZdt = (X*Y) - (beta*Z)\n",
    "\n",
    "                # return only the derivatives\n",
    "                return np.array([dXdt, dYdt, dZdt])\n",
    "            \n",
    "            # generate our data\n",
    "            t_start, t_end = 0.0, 20.0\n",
    "            t_steps = np.linspace(start=t_start, stop=t_end, num=20001)\n",
    "            X = solve_ivp(fun=lorenz, t_span=(t_start, t_end), y0=y_init, \n",
    "                          t_eval=t_steps, atol=1e-10, rtol=1e-10).y.T\n",
    "            \n",
    "            # compute appropriate noise levels based on alpha choice\n",
    "            sigmas = alpha * (X.max(axis=0) - X.min(axis=0))\n",
    "            \n",
    "            # create a copy of X + add the noise\n",
    "            X_noised = X.copy()\n",
    "            X_noised += np.random.normal(loc=0.0, scale=sigmas, size=X.shape)\n",
    "            \n",
    "            # save time, X_true, X_noised as a .csv for our gold-standard dataset\n",
    "            data = np.hstack([t_steps.reshape(-1, 1), X_noised, X])\n",
    "            cols = [\"t\", \"X_obs\", \"Y_obs\", \"Z_obs\", \"X_true\", \"Y_true\", \"Z_true\"]\n",
    "            \n",
    "            # save this dataset to our gold-standard datasets list\n",
    "            df = pd.DataFrame(data=data, columns=cols)\n",
    "            df.to_csv(f\"data/LORENZ_rho={rho}_alpha={alpha}_seed={seed}.csv\", index=False)"
   ]
  }
 ],
 "metadata": {
  "kernelspec": {
   "display_name": "Python 3.10 (Afterburner)",
   "language": "python",
   "name": "afterburner"
  },
  "language_info": {
   "codemirror_mode": {
    "name": "ipython",
    "version": 3
   },
   "file_extension": ".py",
   "mimetype": "text/x-python",
   "name": "python",
   "nbconvert_exporter": "python",
   "pygments_lexer": "ipython3",
   "version": "3.10.14"
  }
 },
 "nbformat": 4,
 "nbformat_minor": 5
}
